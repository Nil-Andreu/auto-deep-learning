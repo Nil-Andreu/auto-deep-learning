{
 "cells": [
  {
   "cell_type": "code",
   "execution_count": 1,
   "id": "6cca863a",
   "metadata": {},
   "outputs": [],
   "source": [
    "import torchvision.transforms as transforms"
   ]
  },
  {
   "cell_type": "code",
   "execution_count": 2,
   "id": "f8337245",
   "metadata": {},
   "outputs": [
    {
     "ename": "ImportError",
     "evalue": "cannot import name 'ImageAugmentation' from 'auto_deep_learning.augmentation' (/home/nil/.local/lib/python3.10/site-packages/auto_deep_learning/augmentation.py)",
     "output_type": "error",
     "traceback": [
      "\u001b[0;31m---------------------------------------------------------------------------\u001b[0m",
      "\u001b[0;31mImportError\u001b[0m                               Traceback (most recent call last)",
      "Cell \u001b[0;32mIn [2], line 1\u001b[0m\n\u001b[0;32m----> 1\u001b[0m \u001b[38;5;28;01mfrom\u001b[39;00m \u001b[38;5;21;01mauto_deep_learning\u001b[39;00m\u001b[38;5;21;01m.\u001b[39;00m\u001b[38;5;21;01maugmentation\u001b[39;00m \u001b[38;5;28;01mimport\u001b[39;00m ImageAugmentation\n",
      "\u001b[0;31mImportError\u001b[0m: cannot import name 'ImageAugmentation' from 'auto_deep_learning.augmentation' (/home/nil/.local/lib/python3.10/site-packages/auto_deep_learning/augmentation.py)"
     ]
    }
   ],
   "source": [
    "from auto_deep_learning.augmentation import ImageAugmentation"
   ]
  },
  {
   "cell_type": "code",
   "execution_count": 7,
   "id": "12a6826d",
   "metadata": {},
   "outputs": [],
   "source": [
    "import auto_deep_learning as adl"
   ]
  },
  {
   "cell_type": "code",
   "execution_count": 3,
   "id": "250dd936",
   "metadata": {},
   "outputs": [],
   "source": [
    "from auto_deep_learning.utils import Loader"
   ]
  },
  {
   "cell_type": "code",
   "execution_count": 4,
   "id": "7e7361eb",
   "metadata": {},
   "outputs": [],
   "source": [
    "from auto_deep_learning.utils import ImageTransformer"
   ]
  },
  {
   "cell_type": "code",
   "execution_count": 11,
   "id": "1d047395",
   "metadata": {},
   "outputs": [
    {
     "ename": "TypeError",
     "evalue": "metaclass conflict: the metaclass of a derived class must be a (non-strict) subclass of the metaclasses of all its bases",
     "output_type": "error",
     "traceback": [
      "\u001b[0;31m---------------------------------------------------------------------------\u001b[0m",
      "\u001b[0;31mTypeError\u001b[0m                                 Traceback (most recent call last)",
      "Cell \u001b[0;32mIn [11], line 1\u001b[0m\n\u001b[0;32m----> 1\u001b[0m new_img \u001b[38;5;241m=\u001b[39m \u001b[43mImageTransformer\u001b[49m\u001b[43m(\u001b[49m\u001b[38;5;124;43m'\u001b[39;49m\u001b[38;5;124;43m1\u001b[39;49m\u001b[38;5;124;43m'\u001b[39;49m\u001b[43m,\u001b[49m\u001b[43m \u001b[49m\u001b[43m(\u001b[49m\u001b[38;5;241;43m1\u001b[39;49m\u001b[43m,\u001b[49m\u001b[43m \u001b[49m\u001b[38;5;241;43m2\u001b[39;49m\u001b[43m)\u001b[49m\u001b[43m,\u001b[49m\u001b[43m \u001b[49m\u001b[43m{\u001b[49m\u001b[38;5;124;43m'\u001b[39;49m\u001b[38;5;124;43m1\u001b[39;49m\u001b[38;5;124;43m'\u001b[39;49m\u001b[43m:\u001b[49m\u001b[43m \u001b[49m\u001b[38;5;124;43m'\u001b[39;49m\u001b[38;5;124;43m2\u001b[39;49m\u001b[38;5;124;43m'\u001b[39;49m\u001b[43m}\u001b[49m\u001b[43m)\u001b[49m\n",
      "\u001b[0;31mTypeError\u001b[0m: metaclass conflict: the metaclass of a derived class must be a (non-strict) subclass of the metaclasses of all its bases"
     ]
    }
   ],
   "source": [
    "new_img = ImageTransformer('1', (1, 2), {'1': '2'})"
   ]
  },
  {
   "cell_type": "code",
   "execution_count": 4,
   "id": "f0837de3",
   "metadata": {},
   "outputs": [
    {
     "name": "stdout",
     "output_type": "stream",
     "text": [
      "Found existing installation: auto-deep-learning 0.1.4.2\n",
      "Uninstalling auto-deep-learning-0.1.4.2:\n",
      "  Successfully uninstalled auto-deep-learning-0.1.4.2\n"
     ]
    }
   ],
   "source": [
    "!pip uninstall auto_deep_learning -y"
   ]
  },
  {
   "cell_type": "code",
   "execution_count": 2,
   "id": "e4e79ddd",
   "metadata": {},
   "outputs": [
    {
     "name": "stdout",
     "output_type": "stream",
     "text": [
      "Defaulting to user installation because normal site-packages is not writeable\n",
      "Collecting auto_deep_learning==0.1.4.5\n",
      "  Downloading auto_deep_learning-0.1.4.5-py3-none-any.whl (16 kB)\n",
      "Requirement already satisfied: torch==1.13.1 in /home/nil/.local/lib/python3.10/site-packages (from auto_deep_learning==0.1.4.5) (1.13.1)\n",
      "Requirement already satisfied: pytest in /home/nil/.local/lib/python3.10/site-packages (from auto_deep_learning==0.1.4.5) (7.2.0)\n",
      "Requirement already satisfied: torchaudio==0.13.1 in /home/nil/.local/lib/python3.10/site-packages (from auto_deep_learning==0.1.4.5) (0.13.1)\n",
      "Requirement already satisfied: torchvision==0.14.1 in /home/nil/.local/lib/python3.10/site-packages (from auto_deep_learning==0.1.4.5) (0.14.1)\n",
      "Requirement already satisfied: nvidia-cublas-cu11==11.10.3.66 in /home/nil/.local/lib/python3.10/site-packages (from torch==1.13.1->auto_deep_learning==0.1.4.5) (11.10.3.66)\n",
      "Requirement already satisfied: nvidia-cuda-nvrtc-cu11==11.7.99 in /home/nil/.local/lib/python3.10/site-packages (from torch==1.13.1->auto_deep_learning==0.1.4.5) (11.7.99)\n",
      "Requirement already satisfied: nvidia-cudnn-cu11==8.5.0.96 in /home/nil/.local/lib/python3.10/site-packages (from torch==1.13.1->auto_deep_learning==0.1.4.5) (8.5.0.96)\n",
      "Requirement already satisfied: nvidia-cuda-runtime-cu11==11.7.99 in /home/nil/.local/lib/python3.10/site-packages (from torch==1.13.1->auto_deep_learning==0.1.4.5) (11.7.99)\n",
      "Requirement already satisfied: typing-extensions in /home/nil/.local/lib/python3.10/site-packages (from torch==1.13.1->auto_deep_learning==0.1.4.5) (4.4.0)\n",
      "Requirement already satisfied: numpy in /home/nil/.local/lib/python3.10/site-packages (from torchvision==0.14.1->auto_deep_learning==0.1.4.5) (1.23.3)\n",
      "Requirement already satisfied: requests in /usr/lib/python3/dist-packages (from torchvision==0.14.1->auto_deep_learning==0.1.4.5) (2.25.1)\n",
      "Requirement already satisfied: pillow!=8.3.*,>=5.3.0 in /usr/lib/python3/dist-packages (from torchvision==0.14.1->auto_deep_learning==0.1.4.5) (9.0.1)\n",
      "Requirement already satisfied: wheel in /usr/lib/python3/dist-packages (from nvidia-cublas-cu11==11.10.3.66->torch==1.13.1->auto_deep_learning==0.1.4.5) (0.37.1)\n",
      "Requirement already satisfied: setuptools in /usr/lib/python3/dist-packages (from nvidia-cublas-cu11==11.10.3.66->torch==1.13.1->auto_deep_learning==0.1.4.5) (59.6.0)\n",
      "Requirement already satisfied: tomli>=1.0.0 in /home/nil/.local/lib/python3.10/site-packages (from pytest->auto_deep_learning==0.1.4.5) (2.0.1)\n",
      "Requirement already satisfied: iniconfig in /home/nil/.local/lib/python3.10/site-packages (from pytest->auto_deep_learning==0.1.4.5) (1.1.1)\n",
      "Requirement already satisfied: exceptiongroup>=1.0.0rc8 in /home/nil/.local/lib/python3.10/site-packages (from pytest->auto_deep_learning==0.1.4.5) (1.1.0)\n",
      "Requirement already satisfied: attrs>=19.2.0 in /home/nil/.local/lib/python3.10/site-packages (from pytest->auto_deep_learning==0.1.4.5) (22.1.0)\n",
      "Requirement already satisfied: pluggy<2.0,>=0.12 in /home/nil/.local/lib/python3.10/site-packages (from pytest->auto_deep_learning==0.1.4.5) (1.0.0)\n",
      "Requirement already satisfied: packaging in /home/nil/.local/lib/python3.10/site-packages (from pytest->auto_deep_learning==0.1.4.5) (21.3)\n",
      "Requirement already satisfied: pyparsing!=3.0.5,>=2.0.2 in /home/nil/.local/lib/python3.10/site-packages (from packaging->pytest->auto_deep_learning==0.1.4.5) (3.0.9)\n",
      "Installing collected packages: auto_deep_learning\n",
      "  Attempting uninstall: auto_deep_learning\n",
      "    Found existing installation: auto-deep-learning 0.1.4.4\n",
      "    Uninstalling auto-deep-learning-0.1.4.4:\n",
      "      Successfully uninstalled auto-deep-learning-0.1.4.4\n",
      "Successfully installed auto_deep_learning-0.1.4.5\n"
     ]
    }
   ],
   "source": [
    "!pip install auto_deep_learning==0.1.4.5"
   ]
  }
 ],
 "metadata": {
  "kernelspec": {
   "display_name": "Python 3 (ipykernel)",
   "language": "python",
   "name": "python3"
  },
  "language_info": {
   "codemirror_mode": {
    "name": "ipython",
    "version": 3
   },
   "file_extension": ".py",
   "mimetype": "text/x-python",
   "name": "python",
   "nbconvert_exporter": "python",
   "pygments_lexer": "ipython3",
   "version": "3.10.6"
  }
 },
 "nbformat": 4,
 "nbformat_minor": 5
}
